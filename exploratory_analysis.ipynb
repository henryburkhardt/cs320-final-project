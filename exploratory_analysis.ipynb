{
 "cells": [
  {
   "cell_type": "code",
   "execution_count": 1,
   "metadata": {
    "ExecuteTime": {
     "end_time": "2024-02-25T23:47:12.591524Z",
     "start_time": "2024-02-25T23:47:11.186197Z"
    }
   },
   "outputs": [],
   "source": [
    "import numpy as np \n",
    "import pandas as pd"
   ]
  },
  {
   "cell_type": "code",
   "execution_count": 24,
   "outputs": [
    {
     "ename": "ModuleNotFoundError",
     "evalue": "No module named 'tensorflow'",
     "output_type": "error",
     "traceback": [
      "\u001B[0;31m---------------------------------------------------------------------------\u001B[0m",
      "\u001B[0;31mModuleNotFoundError\u001B[0m                       Traceback (most recent call last)",
      "Cell \u001B[0;32mIn[24], line 2\u001B[0m\n\u001B[1;32m      1\u001B[0m \u001B[38;5;66;03m# Imports we'll be using\u001B[39;00m\n\u001B[0;32m----> 2\u001B[0m \u001B[38;5;28;01mfrom\u001B[39;00m \u001B[38;5;21;01mtensorflow\u001B[39;00m \u001B[38;5;28;01mimport\u001B[39;00m keras\n\u001B[1;32m      3\u001B[0m \u001B[38;5;28;01mfrom\u001B[39;00m \u001B[38;5;21;01mtensorflow\u001B[39;00m\u001B[38;5;21;01m.\u001B[39;00m\u001B[38;5;21;01mkeras\u001B[39;00m \u001B[38;5;28;01mimport\u001B[39;00m layers\n\u001B[1;32m      4\u001B[0m \u001B[38;5;28;01mfrom\u001B[39;00m \u001B[38;5;21;01mtensorflow\u001B[39;00m\u001B[38;5;21;01m.\u001B[39;00m\u001B[38;5;21;01mkeras\u001B[39;00m\u001B[38;5;21;01m.\u001B[39;00m\u001B[38;5;21;01mlayers\u001B[39;00m \u001B[38;5;28;01mimport\u001B[39;00m Conv2D, MaxPooling2D\n",
      "\u001B[0;31mModuleNotFoundError\u001B[0m: No module named 'tensorflow'"
     ]
    }
   ],
   "source": [
    "# Imports we'll be using\n",
    "from tensorflow import keras\n",
    "from tensorflow.keras import layers\n",
    "from tensorflow.keras.layers import Conv2D, MaxPooling2D\n",
    "from tensorflow.keras.layers import Activation, Dropout, Flatten, Dense\n",
    "from  tensorflow.keras.layers.experimental.preprocessing import Rescaling\n",
    "import matplotlib.pyplot as plt\n",
    "import tensorflow_datasets as tfds\n",
    "import tensorflow as tf\n",
    "import numpy as np"
   ],
   "metadata": {
    "collapsed": false,
    "ExecuteTime": {
     "end_time": "2024-02-25T23:58:34.115574Z",
     "start_time": "2024-02-25T23:58:34.086570Z"
    }
   }
  },
  {
   "cell_type": "code",
   "execution_count": 4,
   "metadata": {
    "ExecuteTime": {
     "end_time": "2024-02-25T23:47:50.447036Z",
     "start_time": "2024-02-25T23:47:50.436779Z"
    }
   },
   "outputs": [],
   "source": [
    "df_import = pd.read_csv('./output.csv')"
   ]
  },
  {
   "cell_type": "code",
   "execution_count": 5,
   "metadata": {
    "ExecuteTime": {
     "end_time": "2024-02-25T23:47:51.056196Z",
     "start_time": "2024-02-25T23:47:51.052225Z"
    }
   },
   "outputs": [
    {
     "data": {
      "text/plain": "   n  gameOver     food  score snakeHead                snakeCells  visionN  \\\n0  0     False  [10, 3]      0    [5, 7]  [[5, 7], [5, 6], [5, 5]]      0.0   \n1  1     False  [10, 3]      0    [5, 8]  [[5, 8], [5, 7], [5, 6]]      0.0   \n2  2     False  [10, 3]      0    [6, 8]  [[6, 8], [5, 8], [5, 7]]      0.0   \n3  3      True  [10, 3]      0    [6, 9]  [[6, 9], [6, 8], [5, 8]]      1.0   \n4  0     False   [6, 7]      0    [5, 7]  [[5, 7], [5, 6], [5, 5]]      0.0   \n\n   visionE  visionS  visionW  directionChoice  directionCurrent  \n0      0.0      1.0      0.0                3                 1  \n1      0.0      1.0      0.0                2                 1  \n2      0.0      1.0      0.0                1                 2  \n3      0.0      1.0      0.0                1                 1  \n4      0.0      1.0      0.0                0                 1  ",
      "text/html": "<div>\n<style scoped>\n    .dataframe tbody tr th:only-of-type {\n        vertical-align: middle;\n    }\n\n    .dataframe tbody tr th {\n        vertical-align: top;\n    }\n\n    .dataframe thead th {\n        text-align: right;\n    }\n</style>\n<table border=\"1\" class=\"dataframe\">\n  <thead>\n    <tr style=\"text-align: right;\">\n      <th></th>\n      <th>n</th>\n      <th>gameOver</th>\n      <th>food</th>\n      <th>score</th>\n      <th>snakeHead</th>\n      <th>snakeCells</th>\n      <th>visionN</th>\n      <th>visionE</th>\n      <th>visionS</th>\n      <th>visionW</th>\n      <th>directionChoice</th>\n      <th>directionCurrent</th>\n    </tr>\n  </thead>\n  <tbody>\n    <tr>\n      <th>0</th>\n      <td>0</td>\n      <td>False</td>\n      <td>[10, 3]</td>\n      <td>0</td>\n      <td>[5, 7]</td>\n      <td>[[5, 7], [5, 6], [5, 5]]</td>\n      <td>0.0</td>\n      <td>0.0</td>\n      <td>1.0</td>\n      <td>0.0</td>\n      <td>3</td>\n      <td>1</td>\n    </tr>\n    <tr>\n      <th>1</th>\n      <td>1</td>\n      <td>False</td>\n      <td>[10, 3]</td>\n      <td>0</td>\n      <td>[5, 8]</td>\n      <td>[[5, 8], [5, 7], [5, 6]]</td>\n      <td>0.0</td>\n      <td>0.0</td>\n      <td>1.0</td>\n      <td>0.0</td>\n      <td>2</td>\n      <td>1</td>\n    </tr>\n    <tr>\n      <th>2</th>\n      <td>2</td>\n      <td>False</td>\n      <td>[10, 3]</td>\n      <td>0</td>\n      <td>[6, 8]</td>\n      <td>[[6, 8], [5, 8], [5, 7]]</td>\n      <td>0.0</td>\n      <td>0.0</td>\n      <td>1.0</td>\n      <td>0.0</td>\n      <td>1</td>\n      <td>2</td>\n    </tr>\n    <tr>\n      <th>3</th>\n      <td>3</td>\n      <td>True</td>\n      <td>[10, 3]</td>\n      <td>0</td>\n      <td>[6, 9]</td>\n      <td>[[6, 9], [6, 8], [5, 8]]</td>\n      <td>1.0</td>\n      <td>0.0</td>\n      <td>1.0</td>\n      <td>0.0</td>\n      <td>1</td>\n      <td>1</td>\n    </tr>\n    <tr>\n      <th>4</th>\n      <td>0</td>\n      <td>False</td>\n      <td>[6, 7]</td>\n      <td>0</td>\n      <td>[5, 7]</td>\n      <td>[[5, 7], [5, 6], [5, 5]]</td>\n      <td>0.0</td>\n      <td>0.0</td>\n      <td>1.0</td>\n      <td>0.0</td>\n      <td>0</td>\n      <td>1</td>\n    </tr>\n  </tbody>\n</table>\n</div>"
     },
     "execution_count": 5,
     "metadata": {},
     "output_type": "execute_result"
    }
   ],
   "source": [
    "df_import.head()"
   ]
  },
  {
   "cell_type": "code",
   "execution_count": 8,
   "metadata": {
    "ExecuteTime": {
     "end_time": "2024-02-25T23:50:15.029615Z",
     "start_time": "2024-02-25T23:50:15.026677Z"
    }
   },
   "outputs": [],
   "source": [
    "df = df_import[['gameOver','visionN','visionE','visionS','visionW','directionChoice']]"
   ]
  },
  {
   "cell_type": "code",
   "execution_count": 11,
   "metadata": {
    "ExecuteTime": {
     "end_time": "2024-02-25T23:52:52.675266Z",
     "start_time": "2024-02-25T23:52:52.671606Z"
    }
   },
   "outputs": [
    {
     "name": "stderr",
     "output_type": "stream",
     "text": [
      "/var/folders/qz/9t6mvwzs38l_g9gg7gtc6f_c0000gn/T/ipykernel_75496/1696214216.py:1: SettingWithCopyWarning: \n",
      "A value is trying to be set on a copy of a slice from a DataFrame.\n",
      "Try using .loc[row_indexer,col_indexer] = value instead\n",
      "\n",
      "See the caveats in the documentation: https://pandas.pydata.org/pandas-docs/stable/user_guide/indexing.html#returning-a-view-versus-a-copy\n",
      "  df['gameOver'] = df['gameOver'].shift(-1)\n"
     ]
    }
   ],
   "source": [
    "df['gameOver'] = df['gameOver'].shift(-1)"
   ]
  },
  {
   "cell_type": "code",
   "execution_count": 22,
   "outputs": [],
   "source": [
    "df = df[df['gameOver'] == False]\n",
    "X = df[['visionN', 'visionE', 'visionS', 'visionW']]\n",
    "y = df['directionChoice']"
   ],
   "metadata": {
    "collapsed": false,
    "ExecuteTime": {
     "end_time": "2024-02-25T23:57:47.691407Z",
     "start_time": "2024-02-25T23:57:47.689440Z"
    }
   }
  },
  {
   "cell_type": "code",
   "execution_count": 27,
   "outputs": [
    {
     "ename": "NameError",
     "evalue": "name 'keras' is not defined",
     "output_type": "error",
     "traceback": [
      "\u001B[0;31m---------------------------------------------------------------------------\u001B[0m",
      "\u001B[0;31mNameError\u001B[0m                                 Traceback (most recent call last)",
      "Cell \u001B[0;32mIn[27], line 2\u001B[0m\n\u001B[1;32m      1\u001B[0m \u001B[38;5;66;03m# First, we initialize a sequential model\u001B[39;00m\n\u001B[0;32m----> 2\u001B[0m model \u001B[38;5;241m=\u001B[39m \u001B[43mkeras\u001B[49m\u001B[38;5;241m.\u001B[39mSequential()\n\u001B[1;32m      3\u001B[0m model\u001B[38;5;241m.\u001B[39madd(keras\u001B[38;5;241m.\u001B[39mInput(shape\u001B[38;5;241m=\u001B[39m(\u001B[38;5;241m28\u001B[39m, \u001B[38;5;241m28\u001B[39m, \u001B[38;5;241m1\u001B[39m)))\n\u001B[1;32m      5\u001B[0m \u001B[38;5;66;03m# Flatten the input to be 784x1 rather than 28x28. We'll see smarter ways\u001B[39;00m\n\u001B[1;32m      6\u001B[0m \u001B[38;5;66;03m# to avoid losing the spatial relationship between pixels in a few days.\u001B[39;00m\n",
      "\u001B[0;31mNameError\u001B[0m: name 'keras' is not defined"
     ]
    }
   ],
   "source": [
    "# First, we initialize a sequential model\n",
    "model = keras.Sequential()\n",
    "model.add(keras.Input(shape=(28, 28, 1)))\n",
    "\n",
    "# Flatten the input to be 784x1 rather than 28x28. We'll see smarter ways\n",
    "# to avoid losing the spatial relationship between pixels in a few days.\n",
    "model.add(Flatten())\n",
    "\n",
    "# We'll try to classify the images, so we'll add a second layer to get to a single output node\n",
    "model.add(Dense(1, name = \"output_layer\"))\n",
    "\n",
    "# Now let's view our model\n",
    "model.summary()"
   ],
   "metadata": {
    "collapsed": false,
    "ExecuteTime": {
     "end_time": "2024-02-26T00:13:57.305987Z",
     "start_time": "2024-02-26T00:13:57.291684Z"
    }
   }
  },
  {
   "cell_type": "code",
   "execution_count": null,
   "outputs": [],
   "source": [],
   "metadata": {
    "collapsed": false
   }
  }
 ],
 "metadata": {
  "kernelspec": {
   "display_name": "cs320",
   "language": "python",
   "name": "python3"
  },
  "language_info": {
   "codemirror_mode": {
    "name": "ipython",
    "version": 3
   },
   "file_extension": ".py",
   "mimetype": "text/x-python",
   "name": "python",
   "nbconvert_exporter": "python",
   "pygments_lexer": "ipython3",
   "version": "3.11.7"
  }
 },
 "nbformat": 4,
 "nbformat_minor": 2
}
